{
  "nbformat": 4,
  "nbformat_minor": 0,
  "metadata": {
    "colab": {
      "name": "Untitled112.ipynb",
      "private_outputs": true,
      "provenance": []
    },
    "kernelspec": {
      "name": "python3",
      "display_name": "Python 3"
    },
    "language_info": {
      "name": "python"
    }
  },
  "cells": [
    {
      "cell_type": "markdown",
      "source": [
        "Fitting on guassian distribution "
      ],
      "metadata": {
        "id": "WfVN0eIUj9O8"
      }
    },
    {
      "cell_type": "markdown",
      "source": [
        "Generating a normal distribution first"
      ],
      "metadata": {
        "id": "0mSfGBi1k8NE"
      }
    },
    {
      "cell_type": "code",
      "source": [
        "import numpy as np\n",
        "from scipy.stats import norm\n",
        "import matplotlib.pyplot as plt\n",
        "\n",
        "\n",
        "# Generate some data for this demonstration. 5 is the mean and standard deviation is 2.5.\n",
        "data = norm.rvs(5.0, 2.5, size=500)\n",
        "\n",
        "\n",
        "\n",
        "# Plot the histogram.\n",
        "plt.hist(data, bins=25, density=True, alpha=0.6, color='g')\n",
        "\n"
      ],
      "metadata": {
        "id": "ribcU1bHkqpc"
      },
      "execution_count": null,
      "outputs": []
    },
    {
      "cell_type": "markdown",
      "source": [
        "fitting onto the normal distribution "
      ],
      "metadata": {
        "id": "mDY7Dwp-k-zU"
      }
    },
    {
      "cell_type": "code",
      "source": [
        "plt.hist(data, bins=25, density=True, alpha=0.6, color='g')\n",
        "\n",
        "# Fit a normal distribution to the data:\n",
        "mu, std = norm.fit(data)\n",
        "# Plot the PDF.\n",
        "xmin, xmax = plt.xlim()\n",
        "x = np.linspace(xmin, xmax, 100)\n",
        "p = norm.pdf(x, mu, std)\n",
        "plt.plot(x, p, 'b', linewidth=2)\n",
        "title = \"Fit results: mu = %.2f,  std = %.2f\" % (mu, std)\n",
        "plt.title(title)\n",
        "\n",
        "plt.show()"
      ],
      "metadata": {
        "id": "uEZn9K9fk3LN"
      },
      "execution_count": null,
      "outputs": []
    }
  ]
}